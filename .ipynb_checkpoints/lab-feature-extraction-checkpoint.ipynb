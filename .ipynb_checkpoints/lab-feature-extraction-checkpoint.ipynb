{
 "cells": [
  {
   "cell_type": "markdown",
   "id": "b7fa42c8",
   "metadata": {},
   "source": [
    "# Lab | Feature extraction\n",
    "For this lab, we will be using the same dataset we used in the previous labs. We recommend using the same notebook since you will be reusing the same variables you previous created and used in labs.\n",
    "\n",
    "## Instructions\n",
    "1. Open the categoricals variable we created before.\n",
    "categoricals = data.select_dtypes(np.object)\n",
    "categoricals.head()\n",
    "1. Plot all the categorical variables with the proper plot. What can you see?\n",
    "There might be some columns that seem to be redundant, check their values to be sure. What should we do with them?\n",
    "Plot time variable. Can you extract something from it?"
   ]
  }
 ],
 "metadata": {
  "kernelspec": {
   "display_name": "Python 3 (ipykernel)",
   "language": "python",
   "name": "python3"
  },
  "language_info": {
   "codemirror_mode": {
    "name": "ipython",
    "version": 3
   },
   "file_extension": ".py",
   "mimetype": "text/x-python",
   "name": "python",
   "nbconvert_exporter": "python",
   "pygments_lexer": "ipython3",
   "version": "3.9.12"
  }
 },
 "nbformat": 4,
 "nbformat_minor": 5
}
